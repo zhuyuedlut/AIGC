{
 "cells": [
  {
   "cell_type": "code",
   "execution_count": 1,
   "metadata": {
    "collapsed": true,
    "ExecuteTime": {
     "end_time": "2023-05-11T13:13:26.577314Z",
     "start_time": "2023-05-11T13:13:25.907773Z"
    }
   },
   "outputs": [],
   "source": [
    "import torch"
   ]
  },
  {
   "cell_type": "code",
   "execution_count": 2,
   "outputs": [],
   "source": [
    "batch = 4\n",
    "dim = 32\n",
    "length = 8"
   ],
   "metadata": {
    "collapsed": false,
    "ExecuteTime": {
     "end_time": "2023-05-11T13:22:09.261709Z",
     "start_time": "2023-05-11T13:22:09.219539Z"
    }
   }
  },
  {
   "cell_type": "code",
   "execution_count": 4,
   "outputs": [],
   "source": [
    "x = torch.randn(batch, length, dim)"
   ],
   "metadata": {
    "collapsed": false,
    "ExecuteTime": {
     "end_time": "2023-05-11T13:22:26.288813Z",
     "start_time": "2023-05-11T13:22:26.245667Z"
    }
   }
  },
  {
   "cell_type": "code",
   "execution_count": 5,
   "outputs": [
    {
     "data": {
      "text/plain": "torch.Size([8, 32])"
     },
     "execution_count": 5,
     "metadata": {},
     "output_type": "execute_result"
    }
   ],
   "source": [
    "x[0].shape"
   ],
   "metadata": {
    "collapsed": false,
    "ExecuteTime": {
     "end_time": "2023-05-11T13:22:32.560306Z",
     "start_time": "2023-05-11T13:22:32.548951Z"
    }
   }
  },
  {
   "cell_type": "code",
   "execution_count": 6,
   "outputs": [
    {
     "data": {
      "text/plain": "tensor([-0.3218, -0.5934, -0.6457, -0.0343,  0.5731,  0.3519, -1.1540, -1.3216,\n         2.4002, -1.4375, -0.5027, -0.8860,  0.0802, -0.1840, -0.1510,  1.1869,\n        -1.4584, -0.4037, -1.2319,  0.5641, -1.6608, -1.2226,  3.0345, -2.1091,\n         0.7974,  0.9672,  0.6409, -0.0627,  0.9411,  1.2646, -2.6790,  1.4418])"
     },
     "execution_count": 6,
     "metadata": {},
     "output_type": "execute_result"
    }
   ],
   "source": [
    "x[0][0]"
   ],
   "metadata": {
    "collapsed": false,
    "ExecuteTime": {
     "end_time": "2023-05-11T13:22:41.849997Z",
     "start_time": "2023-05-11T13:22:41.844320Z"
    }
   }
  },
  {
   "cell_type": "code",
   "execution_count": 7,
   "outputs": [],
   "source": [
    "tril = torch.tril(torch.ones(length, length))"
   ],
   "metadata": {
    "collapsed": false,
    "ExecuteTime": {
     "end_time": "2023-05-11T13:23:08.520830Z",
     "start_time": "2023-05-11T13:23:08.479742Z"
    }
   }
  },
  {
   "cell_type": "code",
   "execution_count": 8,
   "outputs": [
    {
     "data": {
      "text/plain": "tensor([[1., 0., 0., 0., 0., 0., 0., 0.],\n        [1., 1., 0., 0., 0., 0., 0., 0.],\n        [1., 1., 1., 0., 0., 0., 0., 0.],\n        [1., 1., 1., 1., 0., 0., 0., 0.],\n        [1., 1., 1., 1., 1., 0., 0., 0.],\n        [1., 1., 1., 1., 1., 1., 0., 0.],\n        [1., 1., 1., 1., 1., 1., 1., 0.],\n        [1., 1., 1., 1., 1., 1., 1., 1.]])"
     },
     "execution_count": 8,
     "metadata": {},
     "output_type": "execute_result"
    }
   ],
   "source": [
    "tril"
   ],
   "metadata": {
    "collapsed": false,
    "ExecuteTime": {
     "end_time": "2023-05-11T13:23:10.374144Z",
     "start_time": "2023-05-11T13:23:10.369494Z"
    }
   }
  },
  {
   "cell_type": "code",
   "execution_count": 9,
   "outputs": [
    {
     "data": {
      "text/plain": "tensor([[0., 0., 0., 0., 0., 0., 0., 0.],\n        [0., 0., 0., 0., 0., 0., 0., 0.],\n        [0., 0., 0., 0., 0., 0., 0., 0.],\n        [0., 0., 0., 0., 0., 0., 0., 0.],\n        [0., 0., 0., 0., 0., 0., 0., 0.],\n        [0., 0., 0., 0., 0., 0., 0., 0.],\n        [0., 0., 0., 0., 0., 0., 0., 0.],\n        [0., 0., 0., 0., 0., 0., 0., 0.]])"
     },
     "execution_count": 9,
     "metadata": {},
     "output_type": "execute_result"
    }
   ],
   "source": [
    "weights = torch.zeros(length, length)\n",
    "weights"
   ],
   "metadata": {
    "collapsed": false,
    "ExecuteTime": {
     "end_time": "2023-05-11T13:23:49.749084Z",
     "start_time": "2023-05-11T13:23:49.706988Z"
    }
   }
  },
  {
   "cell_type": "code",
   "execution_count": 11,
   "outputs": [
    {
     "data": {
      "text/plain": "tensor([[0., -inf, -inf, -inf, -inf, -inf, -inf, -inf],\n        [0., 0., -inf, -inf, -inf, -inf, -inf, -inf],\n        [0., 0., 0., -inf, -inf, -inf, -inf, -inf],\n        [0., 0., 0., 0., -inf, -inf, -inf, -inf],\n        [0., 0., 0., 0., 0., -inf, -inf, -inf],\n        [0., 0., 0., 0., 0., 0., -inf, -inf],\n        [0., 0., 0., 0., 0., 0., 0., -inf],\n        [0., 0., 0., 0., 0., 0., 0., 0.]])"
     },
     "execution_count": 11,
     "metadata": {},
     "output_type": "execute_result"
    }
   ],
   "source": [
    "weights = weights.masked_fill(tril == 0, float('-inf'))\n",
    "weights"
   ],
   "metadata": {
    "collapsed": false,
    "ExecuteTime": {
     "end_time": "2023-05-11T13:24:07.056714Z",
     "start_time": "2023-05-11T13:24:07.051993Z"
    }
   }
  },
  {
   "cell_type": "code",
   "execution_count": 12,
   "outputs": [],
   "source": [
    "import torch.nn.functional as F"
   ],
   "metadata": {
    "collapsed": false,
    "ExecuteTime": {
     "end_time": "2023-05-11T13:25:21.930846Z",
     "start_time": "2023-05-11T13:25:21.887577Z"
    }
   }
  },
  {
   "cell_type": "code",
   "execution_count": 13,
   "outputs": [],
   "source": [
    "weights = F.softmax(weights, dim=1)"
   ],
   "metadata": {
    "collapsed": false,
    "ExecuteTime": {
     "end_time": "2023-05-11T13:25:32.569980Z",
     "start_time": "2023-05-11T13:25:32.531476Z"
    }
   }
  },
  {
   "cell_type": "code",
   "execution_count": 14,
   "outputs": [
    {
     "data": {
      "text/plain": "tensor([[1.0000, 0.0000, 0.0000, 0.0000, 0.0000, 0.0000, 0.0000, 0.0000],\n        [0.5000, 0.5000, 0.0000, 0.0000, 0.0000, 0.0000, 0.0000, 0.0000],\n        [0.3333, 0.3333, 0.3333, 0.0000, 0.0000, 0.0000, 0.0000, 0.0000],\n        [0.2500, 0.2500, 0.2500, 0.2500, 0.0000, 0.0000, 0.0000, 0.0000],\n        [0.2000, 0.2000, 0.2000, 0.2000, 0.2000, 0.0000, 0.0000, 0.0000],\n        [0.1667, 0.1667, 0.1667, 0.1667, 0.1667, 0.1667, 0.0000, 0.0000],\n        [0.1429, 0.1429, 0.1429, 0.1429, 0.1429, 0.1429, 0.1429, 0.0000],\n        [0.1250, 0.1250, 0.1250, 0.1250, 0.1250, 0.1250, 0.1250, 0.1250]])"
     },
     "execution_count": 14,
     "metadata": {},
     "output_type": "execute_result"
    }
   ],
   "source": [
    "weights"
   ],
   "metadata": {
    "collapsed": false,
    "ExecuteTime": {
     "end_time": "2023-05-11T13:25:35.960099Z",
     "start_time": "2023-05-11T13:25:35.956266Z"
    }
   }
  },
  {
   "cell_type": "code",
   "execution_count": 15,
   "outputs": [
    {
     "data": {
      "text/plain": "tensor([[[-3.2176e-01, -5.9335e-01, -6.4569e-01,  ...,  1.2646e+00,\n          -2.6790e+00,  1.4418e+00],\n         [ 4.6762e-01, -1.5307e+00, -8.5448e-01,  ...,  9.9466e-01,\n          -9.4385e-01,  6.2644e-01],\n         [ 7.7849e-01, -1.2798e+00, -6.4685e-01,  ...,  8.6453e-01,\n          -7.1234e-01,  4.2838e-01],\n         ...,\n         [ 5.2829e-01, -1.8593e-01, -3.2306e-01,  ...,  2.6652e-01,\n          -6.8820e-01, -1.2212e-01],\n         [ 4.9278e-01, -4.8894e-01, -3.5553e-01,  ...,  2.6846e-01,\n          -3.8853e-01,  2.2900e-03],\n         [ 4.3375e-01, -3.9843e-01, -3.4014e-01,  ...,  1.2466e-01,\n          -4.1833e-01,  1.0254e-01]],\n\n        [[-7.9317e-01, -2.1461e-01, -2.3176e+00,  ...,  7.5114e-02,\n          -3.2110e-01,  1.4645e-01],\n         [-2.8730e-01,  5.8756e-02, -9.4267e-01,  ..., -7.4751e-02,\n           8.1403e-03, -3.5283e-01],\n         [ 1.6992e-01,  3.2591e-02, -7.4388e-01,  ...,  5.6302e-03,\n          -1.7350e-01,  4.3518e-01],\n         ...,\n         [-4.8394e-01, -6.4301e-02, -2.7291e-01,  ...,  5.4568e-02,\n          -7.4298e-03, -1.5891e-01],\n         [-5.3402e-01,  1.2212e-01, -2.7911e-01,  ...,  4.2321e-02,\n           1.1271e-02, -2.8229e-01],\n         [-5.0742e-01,  1.1189e-01, -7.9148e-02,  ..., -6.2270e-02,\n          -1.5038e-01, -4.4607e-01]],\n\n        [[ 1.0633e+00,  1.0411e+00, -1.6350e+00,  ..., -2.0414e+00,\n          -1.5879e-01, -1.1773e+00],\n         [ 1.9179e-01,  5.2012e-02, -6.3981e-01,  ..., -5.3657e-01,\n          -8.4856e-01, -6.4954e-02],\n         [-2.6699e-01,  3.4438e-01, -8.6281e-01,  ..., -4.9551e-01,\n          -5.7498e-01,  2.5048e-01],\n         ...,\n         [-3.8968e-01,  1.4447e-02, -6.5528e-01,  ..., -2.2592e-01,\n          -8.7375e-01,  1.2232e-01],\n         [-2.7898e-01, -1.6700e-01, -6.3594e-01,  ..., -3.9352e-01,\n          -8.3567e-01,  1.5819e-01],\n         [-4.0600e-01, -1.6796e-01, -4.4882e-01,  ..., -4.1218e-01,\n          -6.5374e-01,  3.0935e-02]],\n\n        [[ 2.9555e-01,  4.0874e-01, -1.0874e+00,  ...,  2.7404e+00,\n           1.3137e+00, -3.6586e-01],\n         [-4.2655e-01,  1.3683e+00, -9.7278e-01,  ...,  1.8474e+00,\n           3.1744e-01, -6.1520e-01],\n         [ 2.0707e-02,  7.6137e-01, -8.6122e-01,  ...,  8.6303e-01,\n           6.5283e-01, -2.7234e-01],\n         ...,\n         [-3.4716e-01,  4.6300e-01, -6.9608e-01,  ...,  1.0435e-01,\n           5.0228e-01, -9.9413e-02],\n         [-3.1326e-01,  1.3140e-01, -3.7163e-01,  ...,  3.0798e-02,\n           9.0611e-02,  8.6764e-02],\n         [-1.2377e-01,  1.2936e-01, -6.1117e-01,  ...,  5.4297e-02,\n           6.4557e-02, -9.9599e-02]]])"
     },
     "execution_count": 15,
     "metadata": {},
     "output_type": "execute_result"
    }
   ],
   "source": [
    "out = weights @ x\n",
    "out"
   ],
   "metadata": {
    "collapsed": false,
    "ExecuteTime": {
     "end_time": "2023-05-11T13:26:11.317708Z",
     "start_time": "2023-05-11T13:26:11.273813Z"
    }
   }
  },
  {
   "cell_type": "code",
   "execution_count": null,
   "outputs": [],
   "source": [],
   "metadata": {
    "collapsed": false
   }
  }
 ],
 "metadata": {
  "kernelspec": {
   "display_name": "Python 3",
   "language": "python",
   "name": "python3"
  },
  "language_info": {
   "codemirror_mode": {
    "name": "ipython",
    "version": 2
   },
   "file_extension": ".py",
   "mimetype": "text/x-python",
   "name": "python",
   "nbconvert_exporter": "python",
   "pygments_lexer": "ipython2",
   "version": "2.7.6"
  }
 },
 "nbformat": 4,
 "nbformat_minor": 0
}
