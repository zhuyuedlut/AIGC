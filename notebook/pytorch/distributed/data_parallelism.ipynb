{
 "cells": [
  {
   "cell_type": "markdown",
   "source": [
    "### Sumary\n",
    "- 数据并行 vs 模型并行\n",
    "    - 数据并行：模型拷贝（per device），数据split/chunk(batch上)\n",
    "      - the module is replicated on each device, and each replica handles a different portion of the input data\n",
    "      - during the backwards pass, gradients from each replica are summed into the original module\n",
    "    - 模型并行：数据拷贝（per device）, 模型split/chunk（显然是单卡放不下模型的情况）\n",
    "- DP -> DDP\n",
    "    - DP: torch.nn.DataParallel\n",
    "    - DDP: torch.DistributedDataParallel\n",
    "    - Use nn.parallel.DistributedDataParallel instead of multiprocessing or nn.DataParallel and Distributed Data Parallel."
   ],
   "metadata": {
    "collapsed": false
   }
  },
  {
   "cell_type": "code",
   "execution_count": 1,
   "metadata": {
    "collapsed": true,
    "ExecuteTime": {
     "end_time": "2023-06-30T06:52:42.393316Z",
     "start_time": "2023-06-30T06:52:40.799502Z"
    }
   },
   "outputs": [],
   "source": [
    "import torch\n",
    "import torch.nn as nn\n",
    "from torch.utils.data import Dataset, DataLoader\n",
    "\n",
    "input_size = 5\n",
    "output_size = 2\n",
    "\n",
    "batch_size = 32\n",
    "data_size = 100"
   ]
  },
  {
   "cell_type": "code",
   "execution_count": 2,
   "outputs": [
    {
     "data": {
      "text/plain": "device(type='cuda', index=0)"
     },
     "execution_count": 2,
     "metadata": {},
     "output_type": "execute_result"
    }
   ],
   "source": [
    "device = torch.device('cuda:0' if torch.cuda.is_available() else 'cpu')\n",
    "device"
   ],
   "metadata": {
    "collapsed": false,
    "ExecuteTime": {
     "end_time": "2023-06-30T06:52:42.522388Z",
     "start_time": "2023-06-30T06:52:42.516746Z"
    }
   }
  },
  {
   "cell_type": "code",
   "execution_count": 3,
   "outputs": [],
   "source": [
    "class RandomDataset(Dataset):\n",
    "    def __init__(self, size, length):\n",
    "        self.len = length\n",
    "        self.data = torch.randn(length, size)\n",
    "\n",
    "    def __getitem__(self, index):\n",
    "        # (5, )\n",
    "        return self.data[index]\n",
    "\n",
    "    def __len__(self):\n",
    "        # 100\n",
    "        return self.len\n",
    "\n",
    "\n",
    "rand_loader = DataLoader(dataset=RandomDataset(input_size, data_size), batch_size=batch_size, shuffle=True)"
   ],
   "metadata": {
    "collapsed": false,
    "ExecuteTime": {
     "end_time": "2023-06-30T06:52:50.615639Z",
     "start_time": "2023-06-30T06:52:50.589881Z"
    }
   }
  },
  {
   "cell_type": "code",
   "execution_count": 4,
   "outputs": [
    {
     "data": {
      "text/plain": "torch.Size([32, 5])"
     },
     "execution_count": 4,
     "metadata": {},
     "output_type": "execute_result"
    }
   ],
   "source": [
    "next(iter(rand_loader)).shape"
   ],
   "metadata": {
    "collapsed": false,
    "ExecuteTime": {
     "end_time": "2023-06-30T06:52:57.753601Z",
     "start_time": "2023-06-30T06:52:57.738792Z"
    }
   }
  },
  {
   "cell_type": "code",
   "execution_count": 5,
   "outputs": [],
   "source": [
    "class Model(nn.Module):\n",
    "    # Our model\n",
    "    def __init__(self, input_size, output_size):\n",
    "        # 5 -> 2\n",
    "        super(Model, self).__init__()\n",
    "        self.fc = nn.Linear(input_size, output_size)\n",
    "\n",
    "    def forward(self, input):\n",
    "        # Here the model will forward pass\n",
    "        output = self.fc(input)\n",
    "        print(\"\\tIn Model: input size\", input.size(), \"output size\", output.size())\n",
    "\n",
    "        return output"
   ],
   "metadata": {
    "collapsed": false,
    "ExecuteTime": {
     "end_time": "2023-06-30T06:52:58.772594Z",
     "start_time": "2023-06-30T06:52:58.764346Z"
    }
   }
  },
  {
   "cell_type": "markdown",
   "source": [
    "### DataParallel\n",
    "\n",
    "- https://pytorch.org/docs/stable/generated/torch.nn.DataParallel.html\n",
    "    - device_ids=None\n",
    "        - 参与训练的GPU有哪些，device_ids=gpus\n",
    "    - output_device=None\n",
    "        - 输出的GPU是哪个，output_device=gpus[0]\n",
    "    - dim-0\n",
    "- The parallelized module must have its parameters and buffers on device_ids[0] before running(forward/backward) this DataParallel module.\n",
    "    - model.to('cuda:0')\n"
   ],
   "metadata": {
    "collapsed": false
   }
  },
  {
   "cell_type": "code",
   "execution_count": 6,
   "outputs": [
    {
     "name": "stdout",
     "output_type": "stream",
     "text": [
      "Use 4 GPUs\n"
     ]
    }
   ],
   "source": [
    "model = Model(input_size, output_size)\n",
    "if torch.cuda.device_count() > 1:\n",
    "    print('Use', torch.cuda.device_count(), 'GPUs')\n",
    "    model = nn.DataParallel(model)"
   ],
   "metadata": {
    "collapsed": false,
    "ExecuteTime": {
     "end_time": "2023-06-30T06:53:02.637577Z",
     "start_time": "2023-06-30T06:53:02.592385Z"
    }
   }
  },
  {
   "cell_type": "code",
   "execution_count": 7,
   "outputs": [
    {
     "data": {
      "text/plain": "DataParallel(\n  (module): Model(\n    (fc): Linear(in_features=5, out_features=2, bias=True)\n  )\n)"
     },
     "execution_count": 7,
     "metadata": {},
     "output_type": "execute_result"
    }
   ],
   "source": [
    "model"
   ],
   "metadata": {
    "collapsed": false,
    "ExecuteTime": {
     "end_time": "2023-06-30T06:53:03.894678Z",
     "start_time": "2023-06-30T06:53:03.886151Z"
    }
   }
  },
  {
   "cell_type": "code",
   "execution_count": 8,
   "outputs": [
    {
     "data": {
      "text/plain": "DataParallel(\n  (module): Model(\n    (fc): Linear(in_features=5, out_features=2, bias=True)\n  )\n)"
     },
     "execution_count": 8,
     "metadata": {},
     "output_type": "execute_result"
    }
   ],
   "source": [
    "model.to(device)"
   ],
   "metadata": {
    "collapsed": false,
    "ExecuteTime": {
     "end_time": "2023-06-30T06:53:11.097277Z",
     "start_time": "2023-06-30T06:53:09.186218Z"
    }
   }
  },
  {
   "cell_type": "markdown",
   "source": [
    "### tensors: to(device)"
   ],
   "metadata": {
    "collapsed": false
   }
  },
  {
   "cell_type": "code",
   "execution_count": 9,
   "outputs": [
    {
     "name": "stdout",
     "output_type": "stream",
     "text": [
      "a.is_cuda False\n",
      "a.is_cuda False\n",
      "b.is_cuda True\n"
     ]
    }
   ],
   "source": [
    "a = torch.randn(3, 4)\n",
    "print('a.is_cuda', a.is_cuda)\n",
    "b = a.to('cuda:0')\n",
    "print('a.is_cuda', a.is_cuda)\n",
    "print('b.is_cuda', b.is_cuda)\n",
    "\n",
    "# a and b are different"
   ],
   "metadata": {
    "collapsed": false,
    "ExecuteTime": {
     "end_time": "2023-06-30T06:53:19.179785Z",
     "start_time": "2023-06-30T06:53:19.167275Z"
    }
   }
  },
  {
   "cell_type": "markdown",
   "source": [
    "### models：to(device)\n",
    "\n",
    "model.to device会改变之前的model的状态"
   ],
   "metadata": {
    "collapsed": false
   }
  },
  {
   "cell_type": "code",
   "execution_count": 10,
   "outputs": [
    {
     "name": "stdout",
     "output_type": "stream",
     "text": [
      "False\n",
      "True\n",
      "True\n"
     ]
    }
   ],
   "source": [
    "a = Model(3, 4)\n",
    "print(next(a.parameters()).is_cuda)\n",
    "b = a.to('cuda:0')\n",
    "print(next(a.parameters()).is_cuda)\n",
    "print(next(b.parameters()).is_cuda)"
   ],
   "metadata": {
    "collapsed": false,
    "ExecuteTime": {
     "end_time": "2023-06-30T06:54:47.523945Z",
     "start_time": "2023-06-30T06:54:47.504148Z"
    }
   }
  },
  {
   "cell_type": "code",
   "execution_count": 11,
   "outputs": [
    {
     "name": "stdout",
     "output_type": "stream",
     "text": [
      "\tIn Model: input size torch.Size([8, 5]) output size torch.Size([8, 2])\n",
      "\tIn Model: input size torch.Size([8, 5]) output size torch.Size([8, 2])\n",
      "\tIn Model: input size torch.Size([8, 5]) output size torch.Size([8, 2])\n",
      "\tIn Model: input size torch.Size([8, 5]) output size torch.Size([8, 2])\n",
      "Outside: input size torch.Size([32, 5]) output_size torch.Size([32, 2])\n",
      "\tIn Model: input size torch.Size([8, 5]) output size torch.Size([8, 2])\n",
      "\tIn Model: input size torch.Size([8, 5]) output size torch.Size([8, 2])\n",
      "\tIn Model: input size torch.Size([8, 5]) output size torch.Size([8, 2])\n",
      "\tIn Model: input size torch.Size([8, 5]) output size torch.Size([8, 2])\n",
      "Outside: input size torch.Size([32, 5]) output_size torch.Size([32, 2])\n",
      "\tIn Model: input size torch.Size([8, 5]) output size torch.Size([8, 2])\n",
      "\tIn Model: input size torch.Size([8, 5]) output size torch.Size([8, 2])\n",
      "\tIn Model: input size torch.Size([8, 5]) output size torch.Size([8, 2])\n",
      "\tIn Model: input size torch.Size([8, 5]) output size torch.Size([8, 2])\n",
      "Outside: input size torch.Size([32, 5]) output_size torch.Size([32, 2])\n",
      "\tIn Model: input size torch.Size([1, 5]) output size torch.Size([1, 2])\n",
      "\tIn Model: input size torch.Size([1, 5]) output size torch.Size([1, 2])\n",
      "\tIn Model: input size torch.Size([1, 5]) output size torch.Size([1, 2])\n",
      "\tIn Model: input size torch.Size([1, 5]) output size torch.Size([1, 2])\n",
      "Outside: input size torch.Size([4, 5]) output_size torch.Size([4, 2])\n"
     ]
    }
   ],
   "source": [
    "for data in rand_loader:\n",
    "    # input_var can be on any device, including CPU\n",
    "    input = data.to(device)\n",
    "    output = model(input)\n",
    "    print(\"Outside: input size\", input.size(), \"output_size\", output.size())"
   ],
   "metadata": {
    "collapsed": false,
    "ExecuteTime": {
     "end_time": "2023-06-30T06:57:43.473477Z",
     "start_time": "2023-06-30T06:57:34.771824Z"
    }
   }
  },
  {
   "cell_type": "code",
   "execution_count": null,
   "outputs": [],
   "source": [],
   "metadata": {
    "collapsed": false
   }
  }
 ],
 "metadata": {
  "kernelspec": {
   "display_name": "Python 3",
   "language": "python",
   "name": "python3"
  },
  "language_info": {
   "codemirror_mode": {
    "name": "ipython",
    "version": 2
   },
   "file_extension": ".py",
   "mimetype": "text/x-python",
   "name": "python",
   "nbconvert_exporter": "python",
   "pygments_lexer": "ipython2",
   "version": "2.7.6"
  }
 },
 "nbformat": 4,
 "nbformat_minor": 0
}
