{
 "cells": [
  {
   "cell_type": "code",
   "execution_count": 1,
   "metadata": {
    "collapsed": true,
    "ExecuteTime": {
     "end_time": "2023-07-03T07:49:44.391562Z",
     "start_time": "2023-07-03T07:49:42.782160Z"
    }
   },
   "outputs": [],
   "source": [
    "import os\n",
    "import torch\n",
    "import torch.nn.functional as F\n",
    "from torch.utils.data import Dataset, DataLoader"
   ]
  },
  {
   "cell_type": "code",
   "execution_count": 2,
   "outputs": [],
   "source": [
    "import torch.multiprocessing as mp\n",
    "from torch.utils.data.distributed import DistributedSampler\n",
    "from torch.nn.parallel import DistributedDataParallel as DDP\n",
    "from torch.distributed import init_process_group, destroy_process_group"
   ],
   "metadata": {
    "collapsed": false,
    "ExecuteTime": {
     "end_time": "2023-07-03T07:59:41.064669Z",
     "start_time": "2023-07-03T07:59:41.026847Z"
    }
   }
  },
  {
   "cell_type": "markdown",
   "source": [
    "### basics\n",
    "- all to one: reduce; one to all: broadcast\n",
    "- rank: [0, world_size - 1]"
   ],
   "metadata": {
    "collapsed": false
   }
  },
  {
   "cell_type": "markdown",
   "source": [
    "### ddp setup"
   ],
   "metadata": {
    "collapsed": false
   }
  },
  {
   "cell_type": "code",
   "execution_count": 4,
   "outputs": [
    {
     "data": {
      "text/plain": "4"
     },
     "execution_count": 4,
     "metadata": {},
     "output_type": "execute_result"
    }
   ],
   "source": [
    "world_size = torch.cuda.device_count()\n",
    "world_size"
   ],
   "metadata": {
    "collapsed": false,
    "ExecuteTime": {
     "end_time": "2023-07-03T08:01:18.005621Z",
     "start_time": "2023-07-03T08:01:17.993765Z"
    }
   }
  },
  {
   "cell_type": "code",
   "execution_count": 5,
   "outputs": [],
   "source": [
    "def ddp_setup(rank, world_size):\n",
    "    os.environ['MASTER_ADDR'] = 'localhost'\n",
    "    os.environ['MASTER_PORT'] = '12355'\n",
    "    init_process_group(\"nccl\", rank=rank, world_size=world_size)\n",
    "    init_process_group(backend='nccl', rank=rank, world_size=world_size)\n",
    "    torch.cuda.set_device(rank)"
   ],
   "metadata": {
    "collapsed": false,
    "ExecuteTime": {
     "end_time": "2023-07-03T08:04:30.483338Z",
     "start_time": "2023-07-03T08:04:30.445660Z"
    }
   }
  },
  {
   "cell_type": "code",
   "execution_count": 6,
   "outputs": [],
   "source": [
    "class Trainer:\n",
    "    def __init__(self, model: torch.nn.Module, train_dataloader: DataLoader, optimizer: torch.optim.Optimizer,\n",
    "                 gpu_id: int) -> None:\n",
    "        self.gpu_id = gpu_id\n",
    "        self.model = model.to(gpu_id)\n",
    "        self.train_dataloader = train_dataloader\n",
    "        self.optimizer = optimizer\n",
    "        self.model = DDP(model, device_ids=[gpu_id])\n",
    "\n",
    "    def _run_batch(self, xs, ys):\n",
    "        self.optimizer.zero_grad()\n",
    "        output = self.model(xs)\n",
    "        loss = F.cross_entropy(output, ys)\n",
    "        loss.backward()\n",
    "        self.optimizer.step()\n",
    "\n",
    "    def _run_epoch(self, epoch):\n",
    "        batch_size = len(next(iter(self.train_dataloader))[0])\n",
    "        print(f'[GPU: {self.gpu_id}] Epoch: {epoch} | BatchSize: {batch_size} | Steps: {len(self.train_dataloader)}')\n",
    "        self.train_dataloader.sampler.set_epoch(epoch)\n",
    "        for xs, ys in self.train_dataloader:\n",
    "            xs = xs.to(self.gpu_id)\n",
    "            ys = ys.to(self.gpu_id)\n",
    "            self._run_batch(xs, ys)\n",
    "\n",
    "    def train(self, max_epoch: int):\n",
    "        for epoch in range(max_epoch):\n",
    "            self._run_epoch(epoch)"
   ],
   "metadata": {
    "collapsed": false,
    "ExecuteTime": {
     "end_time": "2023-07-03T08:18:17.047524Z",
     "start_time": "2023-07-03T08:18:17.003067Z"
    }
   }
  },
  {
   "cell_type": "code",
   "execution_count": 10,
   "outputs": [],
   "source": [
    "class MyTrainDataset(Dataset):\n",
    "    def __init__(self, size):\n",
    "        self.size = size\n",
    "        self.data = [(torch.randn(20), torch.randn(1)) for _ in range(size)]\n",
    "\n",
    "    def __len__(self):\n",
    "        return self.size\n",
    "\n",
    "    def __getitem__(self, index):\n",
    "        return self.data[index]"
   ],
   "metadata": {
    "collapsed": false,
    "ExecuteTime": {
     "end_time": "2023-07-03T08:26:41.517628Z",
     "start_time": "2023-07-03T08:26:41.514245Z"
    }
   }
  },
  {
   "cell_type": "code",
   "execution_count": 11,
   "outputs": [],
   "source": [
    "train_dataset = MyTrainDataset(2048)"
   ],
   "metadata": {
    "collapsed": false,
    "ExecuteTime": {
     "end_time": "2023-07-03T08:26:41.799985Z",
     "start_time": "2023-07-03T08:26:41.760431Z"
    }
   }
  },
  {
   "cell_type": "code",
   "execution_count": 12,
   "outputs": [
    {
     "data": {
      "text/plain": "(tensor([-0.3474,  0.5461,  0.7366, -0.1509, -0.3166,  0.4327, -1.9924,  0.4900,\n          1.1023, -1.7980, -0.9315,  0.0735, -1.6287, -1.2957,  0.4347, -0.7403,\n          0.3555, -0.5719,  0.1192, -1.9336]),\n tensor([-1.0166]))"
     },
     "execution_count": 12,
     "metadata": {},
     "output_type": "execute_result"
    }
   ],
   "source": [
    "train_dataset[0]"
   ],
   "metadata": {
    "collapsed": false,
    "ExecuteTime": {
     "end_time": "2023-07-03T08:26:42.035365Z",
     "start_time": "2023-07-03T08:26:42.024228Z"
    }
   }
  },
  {
   "cell_type": "code",
   "execution_count": 13,
   "outputs": [],
   "source": [
    "def main(rank: int, world_size: int, max_epochs: int, batch_size: int):\n",
    "    ddp_setup(rank, world_size)\n",
    "\n",
    "    train_dataset = MyTrainDataset(2048)\n",
    "    train_dataloader = DataLoader(train_dataset, batch_size=batch_size, shuffle=True,\n",
    "                                  sampler=DistributedSampler(train_dataset))\n",
    "    model = torch.nn.Linear(20, 1)\n",
    "    optimizer = torch.optim.SGD(model.parameters(), lr=0.001)\n",
    "\n",
    "    trainer = Trainer(model=model, gpu_id=rank, optimizer=optimizer, train_dataloader=train_dataloader)\n",
    "    trainer.train(max_epochs)\n",
    "\n",
    "    destroy_process_group()\n"
   ],
   "metadata": {
    "collapsed": false,
    "ExecuteTime": {
     "end_time": "2023-07-03T08:37:08.858757Z",
     "start_time": "2023-07-03T08:37:08.850872Z"
    }
   }
  },
  {
   "cell_type": "code",
   "execution_count": 14,
   "outputs": [
    {
     "data": {
      "text/plain": "4"
     },
     "execution_count": 14,
     "metadata": {},
     "output_type": "execute_result"
    }
   ],
   "source": [
    "world_size = torch.cuda.device_count()\n",
    "world_size"
   ],
   "metadata": {
    "collapsed": false,
    "ExecuteTime": {
     "end_time": "2023-07-03T08:42:19.289408Z",
     "start_time": "2023-07-03T08:42:19.253096Z"
    }
   }
  },
  {
   "cell_type": "code",
   "execution_count": null,
   "outputs": [],
   "source": [
    "!python ddp_gpus.py --max_epochs 5 --batch_size 32  #%%\n",
    "import os\n",
    "import torch\n",
    "import torch.nn.functional as F\n",
    "from torch.utils.data import Dataset, DataLoader"
   ],
   "metadata": {
    "collapsed": false
   }
  },
  {
   "cell_type": "code",
   "execution_count": null,
   "outputs": [],
   "source": [
    "import torch.multiprocessing as mp\n",
    "from torch.utils.data.distributed import DistributedSampler\n",
    "from torch.nn.parallel import DistributedDataParallel as DDP\n",
    "from torch.distributed import init_process_group, destroy_process_group"
   ],
   "metadata": {
    "collapsed": false
   }
  },
  {
   "cell_type": "markdown",
   "source": [
    "### basics\n",
    "- all to one: reduce; one to all: broadcast\n",
    "- rank: [0, world_size - 1]"
   ],
   "metadata": {
    "collapsed": false
   }
  },
  {
   "cell_type": "markdown",
   "source": [
    "### ddp setup"
   ],
   "metadata": {
    "collapsed": false
   }
  },
  {
   "cell_type": "code",
   "execution_count": null,
   "outputs": [],
   "source": [
    "world_size = torch.cuda.device_count()\n",
    "world_size"
   ],
   "metadata": {
    "collapsed": false
   }
  },
  {
   "cell_type": "code",
   "execution_count": null,
   "outputs": [],
   "source": [
    "def ddp_setup(rank, world_size):\n",
    "    os.environ['MASTER_ADDR'] = 'localhost'\n",
    "    os.environ['MASTER_PORT'] = '12355'\n",
    "    init_process_group(\"nccl\", rank=rank, world_size=world_size)\n",
    "    init_process_group(backend='nccl', rank=rank, world_size=world_size)\n",
    "    torch.cuda.set_device(rank)"
   ],
   "metadata": {
    "collapsed": false
   }
  },
  {
   "cell_type": "code",
   "execution_count": null,
   "outputs": [],
   "source": [
    "class Trainer:\n",
    "    def __init__(self, model: torch.nn.Module, train_dataloader: DataLoader, optimizer: torch.optim.Optimizer,\n",
    "                 gpu_id: int) -> None:\n",
    "        self.gpu_id = gpu_id\n",
    "        self.model = model.to(gpu_id)\n",
    "        self.train_dataloader = train_dataloader\n",
    "        self.optimizer = optimizer\n",
    "        self.model = DDP(model, device_ids=[gpu_id])\n",
    "\n",
    "    def _run_batch(self, xs, ys):\n",
    "        self.optimizer.zero_grad()\n",
    "        output = self.model(xs)\n",
    "        loss = F.cross_entropy(output, ys)\n",
    "        loss.backward()\n",
    "        self.optimizer.step()\n",
    "\n",
    "    def _run_epoch(self, epoch):\n",
    "        batch_size = len(next(iter(self.train_dataloader))[0])\n",
    "        print(f'[GPU: {self.gpu_id}] Epoch: {epoch} | BatchSize: {batch_size} | Steps: {len(self.train_dataloader)}')\n",
    "        self.train_dataloader.sampler.set_epoch(epoch)\n",
    "        for xs, ys in self.train_dataloader:\n",
    "            xs = xs.to(self.gpu_id)\n",
    "            ys = ys.to(self.gpu_id)\n",
    "            self._run_batch(xs, ys)\n",
    "\n",
    "    def train(self, max_epoch: int):\n",
    "        for epoch in range(max_epoch):\n",
    "            self._run_epoch(epoch)"
   ],
   "metadata": {
    "collapsed": false
   }
  },
  {
   "cell_type": "code",
   "execution_count": null,
   "outputs": [],
   "source": [
    "class MyTrainDataset(Dataset):\n",
    "    def __init__(self, size):\n",
    "        self.size = size\n",
    "        self.data = [(torch.randn(20), torch.randn(1)) for _ in range(size)]\n",
    "\n",
    "    def __len__(self):\n",
    "        return self.size\n",
    "\n",
    "    def __getitem__(self, index):\n",
    "        return self.data[index]"
   ],
   "metadata": {
    "collapsed": false
   }
  },
  {
   "cell_type": "code",
   "execution_count": null,
   "outputs": [],
   "source": [
    "train_dataset = MyTrainDataset(2048)"
   ],
   "metadata": {
    "collapsed": false
   }
  },
  {
   "cell_type": "code",
   "execution_count": null,
   "outputs": [],
   "source": [
    "train_dataset[0]"
   ],
   "metadata": {
    "collapsed": false
   }
  },
  {
   "cell_type": "code",
   "execution_count": null,
   "outputs": [],
   "source": [
    "def main(rank: int, world_size: int, max_epochs: int, batch_size: int):\n",
    "    ddp_setup(rank, world_size)\n",
    "\n",
    "    train_dataset = MyTrainDataset(2048)\n",
    "    train_dataloader = DataLoader(train_dataset, batch_size=batch_size, shuffle=True,\n",
    "                                  sampler=DistributedSampler(train_dataset))\n",
    "    model = torch.nn.Linear(20, 1)\n",
    "    optimizer = torch.optim.SGD(model.parameters(), lr=0.001)\n",
    "\n",
    "    trainer = Trainer(model=model, gpu_id=rank, optimizer=optimizer, train_dataloader=train_dataloader)\n",
    "    trainer.train(max_epochs)\n",
    "\n",
    "    destroy_process_group()\n"
   ],
   "metadata": {
    "collapsed": false
   }
  },
  {
   "cell_type": "code",
   "execution_count": null,
   "outputs": [],
   "source": [
    "world_size = torch.cuda.device_count()\n",
    "world_size"
   ],
   "metadata": {
    "collapsed": false
   }
  },
  {
   "cell_type": "markdown",
   "source": [
    "distributed training的基本思路是：\n",
    "- 假如提供了一个2048长度的数据集，如果有4个GPU，那么在distributed 过程中，每个GPU只需要处理512个数据，然后将结果reduce到rank=0的GPU上，这样就完成了一次epoch的训练。\n",
    "- 但是，如果数据集长度不是4的整数倍，那么就会出现数据不均匀的情况，这时候就需要使用sampler来保证每个GPU上的数据量是一样的。\n",
    "- 在一次epoch的过程中，每个GPU处理的相当于是不同的数据，但是每个GPU上的模型参数是一样的，这是因为每个GPU上的模型都是从rank=0的GPU上复制过来的。"
   ],
   "metadata": {
    "collapsed": false
   }
  },
  {
   "cell_type": "code",
   "execution_count": 16,
   "outputs": [
    {
     "name": "stdout",
     "output_type": "stream",
     "text": [
      "/bin/bash: python: command not found\r\n"
     ]
    }
   ],
   "source": [
    "!python ddp_gpus.py --max_epochs 5 --batch_size 32"
   ],
   "metadata": {
    "collapsed": false,
    "ExecuteTime": {
     "end_time": "2023-07-03T08:42:35.432448Z",
     "start_time": "2023-07-03T08:42:35.329216Z"
    }
   }
  },
  {
   "cell_type": "code",
   "execution_count": null,
   "outputs": [],
   "source": [],
   "metadata": {
    "collapsed": false
   }
  },
  {
   "cell_type": "code",
   "execution_count": null,
   "outputs": [],
   "source": [],
   "metadata": {
    "collapsed": false
   }
  }
 ],
 "metadata": {
  "kernelspec": {
   "display_name": "Python 3",
   "language": "python",
   "name": "python3"
  },
  "language_info": {
   "codemirror_mode": {
    "name": "ipython",
    "version": 2
   },
   "file_extension": ".py",
   "mimetype": "text/x-python",
   "name": "python",
   "nbconvert_exporter": "python",
   "pygments_lexer": "ipython2",
   "version": "2.7.6"
  }
 },
 "nbformat": 4,
 "nbformat_minor": 0
}
