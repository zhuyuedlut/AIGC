{
 "cells": [
  {
   "cell_type": "code",
   "execution_count": 1,
   "metadata": {
    "collapsed": true,
    "ExecuteTime": {
     "end_time": "2023-06-21T02:40:29.850970Z",
     "start_time": "2023-06-21T02:40:28.210750Z"
    }
   },
   "outputs": [],
   "source": [
    "import torch"
   ]
  },
  {
   "cell_type": "markdown",
   "source": [
    "### 基本介绍\n",
    "\n",
    "- 复杂的接口：一些抽象的接口的深入理解\n",
    "    - 理解复杂的代码\n",
    "    - 有助于构建复杂的神经网络，且清晰，不出错。\n",
    "- 基于index在原始tensor上选择\n",
    "    - 行选多个，提供的列值（dim=1）\n",
    "        - 多个时，每个行选的必须保持一直\n",
    "    - 列选多个（列选1个是一种特例），提供的是行值（dim=0）\n",
    "- 要求\n",
    "    - input tensor与index的dim相同\n",
    "    - input.shape < input.shape\n",
    "- 应用场景\n",
    "    - batch sample多分类问题的分类输出，获得各个true label上的score(logits)/probs （行选1个）\n",
    "        - batch sample: n*c\n",
    "        - index(true label): n*1"
   ],
   "metadata": {
    "collapsed": false
   }
  },
  {
   "cell_type": "code",
   "execution_count": 2,
   "outputs": [
    {
     "data": {
      "text/plain": "tensor([[2, 1],\n        [3, 4]])"
     },
     "execution_count": 2,
     "metadata": {},
     "output_type": "execute_result"
    }
   ],
   "source": [
    "t = torch.tensor([[1, 2], [3, 4]])\n",
    "torch.gather(t, 1, torch.tensor([[1, 0], [0, 1]]))"
   ],
   "metadata": {
    "collapsed": false,
    "ExecuteTime": {
     "end_time": "2023-06-21T02:57:01.685860Z",
     "start_time": "2023-06-21T02:57:01.638775Z"
    }
   }
  },
  {
   "cell_type": "code",
   "execution_count": 3,
   "outputs": [
    {
     "data": {
      "text/plain": "tensor([[1, 2, 3],\n        [4, 5, 6],\n        [7, 8, 9]])"
     },
     "execution_count": 3,
     "metadata": {},
     "output_type": "execute_result"
    }
   ],
   "source": [
    "t = torch.arange(1, 10).view(3, 3)\n",
    "t"
   ],
   "metadata": {
    "collapsed": false,
    "ExecuteTime": {
     "end_time": "2023-06-21T02:57:52.983821Z",
     "start_time": "2023-06-21T02:57:52.939092Z"
    }
   }
  },
  {
   "cell_type": "code",
   "execution_count": 4,
   "outputs": [
    {
     "data": {
      "text/plain": "tensor([[1, 3],\n        [5, 6]])"
     },
     "execution_count": 4,
     "metadata": {},
     "output_type": "execute_result"
    }
   ],
   "source": [
    "t.gather(1, torch.tensor([[0, 2], [1, 2]]))"
   ],
   "metadata": {
    "collapsed": false,
    "ExecuteTime": {
     "end_time": "2023-06-21T03:02:36.394454Z",
     "start_time": "2023-06-21T03:02:36.350544Z"
    }
   }
  },
  {
   "cell_type": "markdown",
   "source": [
    "如果是想选择(1, 4), (2, 8)，提供的行值是（0， 0）（1， 2）"
   ],
   "metadata": {
    "collapsed": false
   }
  },
  {
   "cell_type": "code",
   "execution_count": 5,
   "outputs": [
    {
     "data": {
      "text/plain": "tensor([[1, 2],\n        [4, 8]])"
     },
     "execution_count": 5,
     "metadata": {},
     "output_type": "execute_result"
    }
   ],
   "source": [
    "t.gather(0, torch.tensor(((0, 0), (1, 2))))"
   ],
   "metadata": {
    "collapsed": false,
    "ExecuteTime": {
     "end_time": "2023-06-21T06:45:36.690434Z",
     "start_time": "2023-06-21T06:45:36.665958Z"
    }
   }
  },
  {
   "cell_type": "code",
   "execution_count": null,
   "outputs": [],
   "source": [],
   "metadata": {
    "collapsed": false
   }
  }
 ],
 "metadata": {
  "kernelspec": {
   "display_name": "Python 3",
   "language": "python",
   "name": "python3"
  },
  "language_info": {
   "codemirror_mode": {
    "name": "ipython",
    "version": 2
   },
   "file_extension": ".py",
   "mimetype": "text/x-python",
   "name": "python",
   "nbconvert_exporter": "python",
   "pygments_lexer": "ipython2",
   "version": "2.7.6"
  }
 },
 "nbformat": 4,
 "nbformat_minor": 0
}
