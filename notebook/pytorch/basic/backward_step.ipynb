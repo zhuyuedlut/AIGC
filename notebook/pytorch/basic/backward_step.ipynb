{
 "cells": [
  {
   "cell_type": "code",
   "execution_count": 2,
   "metadata": {
    "collapsed": true,
    "ExecuteTime": {
     "end_time": "2023-06-10T14:17:04.935875Z",
     "start_time": "2023-06-10T14:17:04.893051Z"
    }
   },
   "outputs": [],
   "source": [
    "import numpy as np\n",
    "import torch\n",
    "import torch.nn as nn"
   ]
  },
  {
   "cell_type": "markdown",
   "source": [],
   "metadata": {
    "collapsed": false
   }
  },
  {
   "cell_type": "code",
   "execution_count": 3,
   "outputs": [],
   "source": [
    "# criterion = nn.XXLoss()\n",
    "# model = XXNet()\n",
    "# optimizer = torch.optim.Adam(model.parameters(), lr=0.001)\n",
    "#\n",
    "# for _ in range(epochs):\n",
    "#     for images, labels in data_loader:\n",
    "#         output = model(images)\n",
    "#         loss = criterion(output, labels)\n",
    "#\n",
    "#         # model.parameters() 连接layer与layer之前的weights, bias\n",
    "#         # model.parameters().grad = 0\n",
    "#         optimizer.zero_grad()\n",
    "#\n",
    "#         # required_grad = True\n",
    "#         loss.backward()\n",
    "#\n",
    "#         # model.parameters(): 连接layer与layer之前的weights, bias\n",
    "#         # model.parameters() += lr * model.parameters().grad\n",
    "#         optimizer.step()"
   ],
   "metadata": {
    "collapsed": false,
    "ExecuteTime": {
     "end_time": "2023-06-10T14:32:06.907446Z",
     "start_time": "2023-06-10T14:32:06.866288Z"
    }
   }
  },
  {
   "cell_type": "code",
   "execution_count": 7,
   "outputs": [],
   "source": [
    "x = torch.tensor([1., 2.], requires_grad=True)\n",
    "y = 100 * x\n",
    "loss = y.sum()\n",
    "optimizer = torch.optim.SGD([x], lr=0.001)"
   ],
   "metadata": {
    "collapsed": false,
    "ExecuteTime": {
     "end_time": "2023-06-10T14:35:01.577762Z",
     "start_time": "2023-06-10T14:35:01.536779Z"
    }
   }
  },
  {
   "cell_type": "code",
   "execution_count": 8,
   "outputs": [
    {
     "data": {
      "text/plain": "SGD (\nParameter Group 0\n    dampening: 0\n    differentiable: False\n    foreach: None\n    lr: 0.001\n    maximize: False\n    momentum: 0\n    nesterov: False\n    weight_decay: 0\n)"
     },
     "execution_count": 8,
     "metadata": {},
     "output_type": "execute_result"
    }
   ],
   "source": [
    "optimizer"
   ],
   "metadata": {
    "collapsed": false,
    "ExecuteTime": {
     "end_time": "2023-06-10T14:35:01.932795Z",
     "start_time": "2023-06-10T14:35:01.923618Z"
    }
   }
  },
  {
   "cell_type": "code",
   "execution_count": 9,
   "outputs": [
    {
     "data": {
      "text/plain": "['defaults',\n '_optimizer_step_pre_hooks',\n '_optimizer_step_post_hooks',\n '_zero_grad_profile_name',\n 'state',\n 'param_groups',\n '_warned_capturable_if_run_uncaptured',\n '__module__',\n '__init__',\n '__setstate__',\n '_init_group',\n 'step',\n '__doc__',\n '__getstate__',\n '__repr__',\n '_cuda_graph_capture_health_check',\n '_optimizer_step_code',\n 'profile_hook_step',\n '_patch_step_function',\n 'register_step_pre_hook',\n 'register_step_post_hook',\n 'state_dict',\n 'load_state_dict',\n 'zero_grad',\n 'add_param_group',\n '__dict__',\n '__weakref__',\n '__new__',\n '__hash__',\n '__str__',\n '__getattribute__',\n '__setattr__',\n '__delattr__',\n '__lt__',\n '__le__',\n '__eq__',\n '__ne__',\n '__gt__',\n '__ge__',\n '__reduce_ex__',\n '__reduce__',\n '__subclasshook__',\n '__init_subclass__',\n '__format__',\n '__sizeof__',\n '__dir__',\n '__class__']"
     },
     "execution_count": 9,
     "metadata": {},
     "output_type": "execute_result"
    }
   ],
   "source": [
    "optimizer.__dir__()"
   ],
   "metadata": {
    "collapsed": false,
    "ExecuteTime": {
     "end_time": "2023-06-10T14:35:02.277434Z",
     "start_time": "2023-06-10T14:35:02.235545Z"
    }
   }
  },
  {
   "cell_type": "code",
   "execution_count": 10,
   "outputs": [],
   "source": [
    "x.grad"
   ],
   "metadata": {
    "collapsed": false,
    "ExecuteTime": {
     "end_time": "2023-06-10T14:35:06.251273Z",
     "start_time": "2023-06-10T14:35:06.247415Z"
    }
   }
  },
  {
   "cell_type": "code",
   "execution_count": 11,
   "outputs": [
    {
     "data": {
      "text/plain": "tensor([1., 2.])"
     },
     "execution_count": 11,
     "metadata": {},
     "output_type": "execute_result"
    }
   ],
   "source": [
    "x.data"
   ],
   "metadata": {
    "collapsed": false,
    "ExecuteTime": {
     "end_time": "2023-06-10T14:35:09.510940Z",
     "start_time": "2023-06-10T14:35:09.494356Z"
    }
   }
  },
  {
   "cell_type": "code",
   "execution_count": 12,
   "outputs": [],
   "source": [
    "optimizer.zero_grad()"
   ],
   "metadata": {
    "collapsed": false,
    "ExecuteTime": {
     "end_time": "2023-06-10T14:36:24.559004Z",
     "start_time": "2023-06-10T14:36:24.517899Z"
    }
   }
  },
  {
   "cell_type": "code",
   "execution_count": 13,
   "outputs": [],
   "source": [
    "loss.backward()"
   ],
   "metadata": {
    "collapsed": false,
    "ExecuteTime": {
     "end_time": "2023-06-10T14:36:28.812463Z",
     "start_time": "2023-06-10T14:36:28.706467Z"
    }
   }
  },
  {
   "cell_type": "code",
   "execution_count": 14,
   "outputs": [
    {
     "data": {
      "text/plain": "tensor([100., 100.])"
     },
     "execution_count": 14,
     "metadata": {},
     "output_type": "execute_result"
    }
   ],
   "source": [
    "x.grad"
   ],
   "metadata": {
    "collapsed": false,
    "ExecuteTime": {
     "end_time": "2023-06-10T14:36:32.256725Z",
     "start_time": "2023-06-10T14:36:32.251846Z"
    }
   }
  },
  {
   "cell_type": "code",
   "execution_count": 15,
   "outputs": [
    {
     "data": {
      "text/plain": "tensor([1., 2.])"
     },
     "execution_count": 15,
     "metadata": {},
     "output_type": "execute_result"
    }
   ],
   "source": [
    "x.data"
   ],
   "metadata": {
    "collapsed": false,
    "ExecuteTime": {
     "end_time": "2023-06-10T14:36:34.901410Z",
     "start_time": "2023-06-10T14:36:34.897928Z"
    }
   }
  },
  {
   "cell_type": "code",
   "execution_count": 16,
   "outputs": [],
   "source": [
    "optimizer.step()"
   ],
   "metadata": {
    "collapsed": false,
    "ExecuteTime": {
     "end_time": "2023-06-10T14:36:37.957276Z",
     "start_time": "2023-06-10T14:36:37.950908Z"
    }
   }
  },
  {
   "cell_type": "code",
   "execution_count": 17,
   "outputs": [
    {
     "data": {
      "text/plain": "tensor([100., 100.])"
     },
     "execution_count": 17,
     "metadata": {},
     "output_type": "execute_result"
    }
   ],
   "source": [
    "x.grad"
   ],
   "metadata": {
    "collapsed": false,
    "ExecuteTime": {
     "end_time": "2023-06-10T14:36:41.054909Z",
     "start_time": "2023-06-10T14:36:41.049347Z"
    }
   }
  },
  {
   "cell_type": "code",
   "execution_count": 18,
   "outputs": [
    {
     "data": {
      "text/plain": "tensor([0.9000, 1.9000])"
     },
     "execution_count": 18,
     "metadata": {},
     "output_type": "execute_result"
    }
   ],
   "source": [
    "x.data"
   ],
   "metadata": {
    "collapsed": false,
    "ExecuteTime": {
     "end_time": "2023-06-10T14:36:42.652031Z",
     "start_time": "2023-06-10T14:36:42.646604Z"
    }
   }
  },
  {
   "cell_type": "code",
   "execution_count": null,
   "outputs": [],
   "source": [],
   "metadata": {
    "collapsed": false
   }
  }
 ],
 "metadata": {
  "kernelspec": {
   "display_name": "Python 3",
   "language": "python",
   "name": "python3"
  },
  "language_info": {
   "codemirror_mode": {
    "name": "ipython",
    "version": 2
   },
   "file_extension": ".py",
   "mimetype": "text/x-python",
   "name": "python",
   "nbconvert_exporter": "python",
   "pygments_lexer": "ipython2",
   "version": "2.7.6"
  }
 },
 "nbformat": 4,
 "nbformat_minor": 0
}
