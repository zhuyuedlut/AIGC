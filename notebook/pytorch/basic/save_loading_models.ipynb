{
 "cells": [
  {
   "cell_type": "markdown",
   "source": [
    "#### Model State\n",
    "What defines the state of a model\n",
    "- model.state_dict()\n",
    "- optimizer.state_dict()\n",
    "- losses: after all, you should keep track of its evolution\n",
    "- epoch\n",
    "- anything else you'd like to have restored later"
   ],
   "metadata": {
    "collapsed": false
   }
  },
  {
   "cell_type": "code",
   "execution_count": 1,
   "metadata": {
    "collapsed": true,
    "ExecuteTime": {
     "end_time": "2023-06-06T13:42:28.269559Z",
     "start_time": "2023-06-06T13:42:28.268774Z"
    }
   },
   "outputs": [],
   "source": [
    "# save checkpoint\n",
    "# checkpoint = {\n",
    "#     'epoch': n_epochs,\n",
    "#     'model_state_dict': model.state_dict(),\n",
    "#     'optimizer_state_dict': optimizer.state_dict(),\n",
    "#     'loss': losses,\n",
    "#     'val_loss': val_losses,\n",
    "# }\n",
    "\n",
    "# torch.save(checkpoint, 'model_checkpoint.pth')"
   ]
  },
  {
   "cell_type": "markdown",
   "source": [
    "#### Resuming Training\n",
    "\n",
    "If we're starting fresh (as if we had just turned on the computer and started Jupyter), we have to set the stage before actually loading the model.This means we need to\n",
    "load the data and configure the model."
   ],
   "metadata": {
    "collapsed": false
   }
  },
  {
   "cell_type": "code",
   "execution_count": null,
   "outputs": [],
   "source": [
    "# checkpoint = torch.load('model_checkpoint.pth')\n",
    "#\n",
    "# model.load_state_dict(checkpoint['model_state_dict'])\n",
    "# optimizer.load_state_dict(checkpoint['optimizer_state_dict'])\n",
    "#\n",
    "# save_epoch = checkpoint['epoch']\n",
    "# saved_losses = checkpoint['loss']\n",
    "# saved_val_losses = checkpoint['val_loss']\n",
    "#\n",
    "# model.train()"
   ],
   "metadata": {
    "collapsed": false
   }
  }
 ],
 "metadata": {
  "kernelspec": {
   "display_name": "Python 3",
   "language": "python",
   "name": "python3"
  },
  "language_info": {
   "codemirror_mode": {
    "name": "ipython",
    "version": 2
   },
   "file_extension": ".py",
   "mimetype": "text/x-python",
   "name": "python",
   "nbconvert_exporter": "python",
   "pygments_lexer": "ipython2",
   "version": "2.7.6"
  }
 },
 "nbformat": 4,
 "nbformat_minor": 0
}
