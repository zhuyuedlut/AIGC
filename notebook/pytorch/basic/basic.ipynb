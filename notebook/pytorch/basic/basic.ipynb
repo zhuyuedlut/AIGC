{
 "cells": [
  {
   "cell_type": "code",
   "execution_count": 1,
   "metadata": {
    "collapsed": true,
    "ExecuteTime": {
     "end_time": "2023-06-02T14:34:47.010220Z",
     "start_time": "2023-06-02T14:34:46.252446Z"
    }
   },
   "outputs": [],
   "source": [
    "import torch"
   ]
  },
  {
   "cell_type": "code",
   "execution_count": 3,
   "outputs": [],
   "source": [
    "scalar = torch.tensor(3.1415926)\n",
    "vector = torch.tensor([1, 2, 3])\n",
    "matrix = torch.ones((2, 3), dtype=torch.float)\n",
    "tensor = torch.randn((2, 3, 4), dtype=torch.float)"
   ],
   "metadata": {
    "collapsed": false,
    "ExecuteTime": {
     "end_time": "2023-06-02T14:36:47.064863Z",
     "start_time": "2023-06-02T14:36:47.021877Z"
    }
   }
  },
  {
   "cell_type": "markdown",
   "source": [
    "The view() method only returns a tensor with the desired shape that shares the underlying data with original tensor - it **DOES NOT create a new, independent, tensor**\n",
    "\n",
    "The reshape() method may or may not create a copy."
   ],
   "metadata": {
    "collapsed": false
   }
  },
  {
   "cell_type": "code",
   "execution_count": 4,
   "outputs": [
    {
     "name": "stdout",
     "output_type": "stream",
     "text": [
      "original tensor tensor([[1., 1., 1.],\n",
      "        [1., 1., 1.]])\n",
      "view matrix tensor([[1., 2., 1.],\n",
      "        [1., 1., 1.]])\n",
      "same matrix tensor([[1., 2., 1., 1., 1., 1.]])\n"
     ]
    }
   ],
   "source": [
    "print('original tensor', matrix)\n",
    "same_matrix = matrix.view(1, 6)\n",
    "same_matrix[0, 1] = 2\n",
    "print('view matrix', matrix)\n",
    "print('same matrix', same_matrix)"
   ],
   "metadata": {
    "collapsed": false,
    "ExecuteTime": {
     "end_time": "2023-06-02T14:46:54.581734Z",
     "start_time": "2023-06-02T14:46:54.539853Z"
    }
   }
  },
  {
   "cell_type": "code",
   "execution_count": 5,
   "outputs": [
    {
     "name": "stdout",
     "output_type": "stream",
     "text": [
      "matrix tensor([[1., 2., 1.],\n",
      "        [1., 1., 1.]])\n",
      "different matrix tensor([[1., 3., 1., 1., 1., 1.]])\n"
     ]
    },
    {
     "name": "stderr",
     "output_type": "stream",
     "text": [
      "/tmp/ipykernel_186323/2202857492.py:1: UserWarning: To copy construct from a tensor, it is recommended to use sourceTensor.clone().detach() or sourceTensor.clone().detach().requires_grad_(True), rather than tensor.new_tensor(sourceTensor).\n",
      "  different_matrix = matrix.new_tensor(matrix.view(1, 6))\n"
     ]
    }
   ],
   "source": [
    "different_matrix = matrix.new_tensor(matrix.view(1, 6))\n",
    "different_matrix[0, 1] = 3.\n",
    "print('matrix', matrix)\n",
    "print('different matrix', different_matrix)"
   ],
   "metadata": {
    "collapsed": false,
    "ExecuteTime": {
     "end_time": "2023-06-02T14:49:08.648596Z",
     "start_time": "2023-06-02T14:49:08.606628Z"
    }
   }
  },
  {
   "cell_type": "code",
   "execution_count": 6,
   "outputs": [
    {
     "name": "stdout",
     "output_type": "stream",
     "text": [
      "matrix tensor([[1., 2., 1.],\n",
      "        [1., 1., 1.]])\n",
      "another matrix tensor([[1., 4., 1., 1., 1., 1.]])\n"
     ]
    }
   ],
   "source": [
    "another_matrix = matrix.view(1, 6).clone().detach()\n",
    "another_matrix[0, 1] = 4.\n",
    "print('matrix', matrix)\n",
    "print('another matrix', another_matrix)"
   ],
   "metadata": {
    "collapsed": false,
    "ExecuteTime": {
     "end_time": "2023-06-02T14:50:40.464064Z",
     "start_time": "2023-06-02T14:50:40.420781Z"
    }
   }
  },
  {
   "cell_type": "code",
   "execution_count": 7,
   "outputs": [
    {
     "data": {
      "text/plain": "'cuda'"
     },
     "execution_count": 7,
     "metadata": {},
     "output_type": "execute_result"
    }
   ],
   "source": [
    "device = 'cuda' if torch.cuda.is_available() else 'cpu'\n",
    "device"
   ],
   "metadata": {
    "collapsed": false,
    "ExecuteTime": {
     "end_time": "2023-06-02T14:55:59.652700Z",
     "start_time": "2023-06-02T14:55:59.608264Z"
    }
   }
  },
  {
   "cell_type": "code",
   "execution_count": 10,
   "outputs": [
    {
     "data": {
      "text/plain": "'NVIDIA GeForce RTX 3090'"
     },
     "execution_count": 10,
     "metadata": {},
     "output_type": "execute_result"
    }
   ],
   "source": [
    "torch.cuda.device_count()\n",
    "torch.cuda.get_device_name()"
   ],
   "metadata": {
    "collapsed": false,
    "ExecuteTime": {
     "end_time": "2023-06-02T14:57:02.839223Z",
     "start_time": "2023-06-02T14:57:02.836711Z"
    }
   }
  },
  {
   "cell_type": "code",
   "execution_count": 13,
   "outputs": [
    {
     "name": "stdout",
     "output_type": "stream",
     "text": [
      "tensor([0.1288], device='cuda:0', grad_fn=<ToCopyBackward0>) tensor([0.3367], device='cuda:0', grad_fn=<ToCopyBackward0>)\n"
     ]
    }
   ],
   "source": [
    "torch.manual_seed(42)\n",
    "b = torch.randn(1, requires_grad=True, dtype=torch.float).to(device)\n",
    "w = torch.randn(1, requires_grad=True, dtype=torch.float).to(device)\n",
    "print(w, b)"
   ],
   "metadata": {
    "collapsed": false,
    "ExecuteTime": {
     "end_time": "2023-06-02T15:23:24.805435Z",
     "start_time": "2023-06-02T15:23:24.064027Z"
    }
   }
  },
  {
   "cell_type": "markdown",
   "source": [
    "In PyTorch, every method that ends with an underscore (_), like\n",
    "the requires_grad_() method above, makes changes in-place,\n",
    "meaning, they will modify the underlying variable\n",
    "\n",
    "Similar to what happens when using the same seed in different packages (Numpy\n",
    "and PyTorch), we also get different sequences of random numbers if PyTorch\n",
    "generates them in different devices (CPU and GPU)"
   ],
   "metadata": {
    "collapsed": false
   }
  },
  {
   "cell_type": "code",
   "execution_count": null,
   "outputs": [],
   "source": [],
   "metadata": {
    "collapsed": false
   }
  }
 ],
 "metadata": {
  "kernelspec": {
   "display_name": "Python 3",
   "language": "python",
   "name": "python3"
  },
  "language_info": {
   "codemirror_mode": {
    "name": "ipython",
    "version": 2
   },
   "file_extension": ".py",
   "mimetype": "text/x-python",
   "name": "python",
   "nbconvert_exporter": "python",
   "pygments_lexer": "ipython2",
   "version": "2.7.6"
  }
 },
 "nbformat": 4,
 "nbformat_minor": 0
}
