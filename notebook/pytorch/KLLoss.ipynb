{
 "cells": [
  {
   "cell_type": "markdown",
   "source": [
    "# KL Divergence Loss"
   ],
   "metadata": {
    "collapsed": false
   }
  },
  {
   "cell_type": "code",
   "execution_count": 1,
   "metadata": {
    "collapsed": true,
    "ExecuteTime": {
     "end_time": "2023-06-25T06:52:10.036348Z",
     "start_time": "2023-06-25T06:52:08.418098Z"
    }
   },
   "outputs": [],
   "source": [
    "import torch\n",
    "from torch import nn\n",
    "import torch.nn.functional as F"
   ]
  },
  {
   "cell_type": "code",
   "execution_count": 14,
   "outputs": [],
   "source": [
    "kl_loss = nn.KLDivLoss(reduction=\"batchmean\")"
   ],
   "metadata": {
    "collapsed": false,
    "ExecuteTime": {
     "end_time": "2023-06-25T06:56:14.167371Z",
     "start_time": "2023-06-25T06:56:14.122645Z"
    }
   }
  },
  {
   "cell_type": "code",
   "execution_count": 30,
   "outputs": [
    {
     "name": "stdout",
     "output_type": "stream",
     "text": [
      "torch.Size([1, 3]) tensor([[-1.0986, -1.0986, -1.0986]])\n",
      "torch.Size([1, 3])\n"
     ]
    }
   ],
   "source": [
    "input = torch.log(torch.FloatTensor([[1 / 3, 1 / 3, 1 / 3]]))\n",
    "print(input.shape, input)\n",
    "target = torch.FloatTensor([[9 / 25, 12 / 25, 4 / 25]])\n",
    "print(target.shape)"
   ],
   "metadata": {
    "collapsed": false,
    "ExecuteTime": {
     "end_time": "2023-06-25T07:44:47.421282Z",
     "start_time": "2023-06-25T07:44:47.411320Z"
    }
   }
  },
  {
   "cell_type": "code",
   "execution_count": 31,
   "outputs": [
    {
     "data": {
      "text/plain": "tensor(0.0853)"
     },
     "execution_count": 31,
     "metadata": {},
     "output_type": "execute_result"
    }
   ],
   "source": [
    "kl_loss(input, target)"
   ],
   "metadata": {
    "collapsed": false,
    "ExecuteTime": {
     "end_time": "2023-06-25T07:44:47.796399Z",
     "start_time": "2023-06-25T07:44:47.786031Z"
    }
   }
  },
  {
   "cell_type": "markdown",
   "source": [
    "# KL Loss & CE Loss"
   ],
   "metadata": {
    "collapsed": false
   }
  },
  {
   "cell_type": "code",
   "execution_count": 32,
   "outputs": [],
   "source": [
    "kl_loss = nn.KLDivLoss(reduction=\"batchmean\")\n",
    "ce_loss = nn.CrossEntropyLoss()"
   ],
   "metadata": {
    "collapsed": false,
    "ExecuteTime": {
     "end_time": "2023-06-25T07:46:10.481659Z",
     "start_time": "2023-06-25T07:46:10.468190Z"
    }
   }
  },
  {
   "cell_type": "code",
   "execution_count": 33,
   "outputs": [
    {
     "data": {
      "text/plain": "tensor([[-0.2886, -1.1185, -0.3406, -0.2233, -1.4214],\n        [ 0.7044, -0.1608,  1.4654,  1.3905,  0.5196],\n        [-0.8406,  1.6600,  1.9194,  0.8524,  0.8311]], requires_grad=True)"
     },
     "execution_count": 33,
     "metadata": {},
     "output_type": "execute_result"
    }
   ],
   "source": [
    "input = torch.randn(3, 5, requires_grad=True)\n",
    "input"
   ],
   "metadata": {
    "collapsed": false,
    "ExecuteTime": {
     "end_time": "2023-06-25T07:46:44.988263Z",
     "start_time": "2023-06-25T07:46:44.952425Z"
    }
   }
  },
  {
   "cell_type": "code",
   "execution_count": 35,
   "outputs": [
    {
     "data": {
      "text/plain": "tensor([2, 4, 1])"
     },
     "execution_count": 35,
     "metadata": {},
     "output_type": "execute_result"
    }
   ],
   "source": [
    "target = torch.empty(3, dtype=torch.long).random_(5)\n",
    "target"
   ],
   "metadata": {
    "collapsed": false,
    "ExecuteTime": {
     "end_time": "2023-06-25T07:46:59.586713Z",
     "start_time": "2023-06-25T07:46:59.565738Z"
    }
   }
  },
  {
   "cell_type": "code",
   "execution_count": 43,
   "outputs": [
    {
     "data": {
      "text/plain": "tensor(1.5334, grad_fn=<NllLossBackward0>)"
     },
     "execution_count": 43,
     "metadata": {},
     "output_type": "execute_result"
    }
   ],
   "source": [
    "ce_value = ce_loss(input, target)\n",
    "ce_value"
   ],
   "metadata": {
    "collapsed": false,
    "ExecuteTime": {
     "end_time": "2023-06-25T07:56:19.699430Z",
     "start_time": "2023-06-25T07:56:19.686041Z"
    }
   }
  },
  {
   "cell_type": "code",
   "execution_count": 44,
   "outputs": [
    {
     "data": {
      "text/plain": "tensor([[-1.3284, -2.1583, -1.3804, -1.2631, -2.4612],\n        [-1.8530, -2.7181, -1.0920, -1.1668, -2.0378],\n        [-3.6826, -1.1819, -0.9225, -1.9895, -2.0108]],\n       grad_fn=<LogSoftmaxBackward0>)"
     },
     "execution_count": 44,
     "metadata": {},
     "output_type": "execute_result"
    }
   ],
   "source": [
    "input_log_softmax = F.log_softmax(input, dim=1)\n",
    "input_log_softmax"
   ],
   "metadata": {
    "collapsed": false,
    "ExecuteTime": {
     "end_time": "2023-06-25T07:56:20.266540Z",
     "start_time": "2023-06-25T07:56:20.255462Z"
    }
   }
  },
  {
   "cell_type": "code",
   "execution_count": 45,
   "outputs": [],
   "source": [
    "target_shaped = torch.tensor([\n",
    "    [0, 0, 1, 0, 0],\n",
    "    [0, 0, 0, 0, 1],\n",
    "    [0, 1, 0, 0, 0]\n",
    "], dtype=torch.float)"
   ],
   "metadata": {
    "collapsed": false,
    "ExecuteTime": {
     "end_time": "2023-06-25T07:57:26.033867Z",
     "start_time": "2023-06-25T07:57:26.027724Z"
    }
   }
  },
  {
   "cell_type": "code",
   "execution_count": 46,
   "outputs": [
    {
     "data": {
      "text/plain": "tensor(1.5334, grad_fn=<DivBackward1>)"
     },
     "execution_count": 46,
     "metadata": {},
     "output_type": "execute_result"
    }
   ],
   "source": [
    "ce_loss(input, target_shaped)"
   ],
   "metadata": {
    "collapsed": false,
    "ExecuteTime": {
     "end_time": "2023-06-25T07:57:26.316752Z",
     "start_time": "2023-06-25T07:57:26.306344Z"
    }
   }
  },
  {
   "cell_type": "code",
   "execution_count": 47,
   "outputs": [
    {
     "data": {
      "text/plain": "tensor(1.5334, grad_fn=<DivBackward0>)"
     },
     "execution_count": 47,
     "metadata": {},
     "output_type": "execute_result"
    }
   ],
   "source": [
    "kl_loss(input_log_softmax, target_shaped)"
   ],
   "metadata": {
    "collapsed": false,
    "ExecuteTime": {
     "end_time": "2023-06-25T07:57:27.875104Z",
     "start_time": "2023-06-25T07:57:27.861863Z"
    }
   }
  },
  {
   "cell_type": "markdown",
   "source": [
    "KL散度和交叉熵损失函数之前是差一个target分布的熵，一个input分布的熵，然后两个分布的交叉熵，然后两个分布的KL散度，然后两个分布的交叉熵减去两个分布的KL散度，然后两个分布的交叉熵减去两个分布的KL散度的结果是一样的。"
   ],
   "metadata": {
    "collapsed": false
   }
  },
  {
   "cell_type": "code",
   "execution_count": 48,
   "outputs": [],
   "source": [
    "kl_loss = torch.nn.KLDivLoss(reduction='none')\n",
    "ce_loss = torch.nn.CrossEntropyLoss(reduction='none')"
   ],
   "metadata": {
    "collapsed": false,
    "ExecuteTime": {
     "end_time": "2023-06-25T08:00:27.470339Z",
     "start_time": "2023-06-25T08:00:27.428728Z"
    }
   }
  },
  {
   "cell_type": "code",
   "execution_count": 57,
   "outputs": [],
   "source": [
    "input = torch.tensor([[-0.1, 0.2, -0.4, 0.3]], dtype=torch.float)\n",
    "target = torch.tensor([[-0.7, 0.1, -0.1, 0.1]], dtype=torch.float)"
   ],
   "metadata": {
    "collapsed": false,
    "ExecuteTime": {
     "end_time": "2023-06-25T08:05:40.069395Z",
     "start_time": "2023-06-25T08:05:39.875068Z"
    }
   }
  },
  {
   "cell_type": "code",
   "execution_count": 58,
   "outputs": [
    {
     "name": "stdout",
     "output_type": "stream",
     "text": [
      "tensor([[-0.0635,  0.0116,  0.1097, -0.0190]])\n",
      "tensor(0.0097)\n",
      "tensor(0.0389)\n"
     ]
    }
   ],
   "source": [
    "kl_output = kl_loss(F.log_softmax(input, dim=1), F.softmax(target, dim=1))\n",
    "print(kl_output)\n",
    "print(kl_output.mean())\n",
    "print(kl_output.sum())"
   ],
   "metadata": {
    "collapsed": false,
    "ExecuteTime": {
     "end_time": "2023-06-25T08:05:40.069900Z",
     "start_time": "2023-06-25T08:05:40.066826Z"
    }
   }
  },
  {
   "cell_type": "code",
   "execution_count": 59,
   "outputs": [
    {
     "data": {
      "text/plain": "tensor([[-1.5222, -1.2222, -1.8222, -1.1222]])"
     },
     "execution_count": 59,
     "metadata": {},
     "output_type": "execute_result"
    }
   ],
   "source": [
    "F.log_softmax(input, dim=1)"
   ],
   "metadata": {
    "collapsed": false,
    "ExecuteTime": {
     "end_time": "2023-06-25T08:06:36.577331Z",
     "start_time": "2023-06-25T08:06:36.536235Z"
    }
   }
  },
  {
   "cell_type": "code",
   "execution_count": 79,
   "outputs": [
    {
     "data": {
      "text/plain": "(tensor([[0.2182, 0.2946, 0.1617, 0.3255]]),\n tensor([[-1.5222, -1.2222, -1.8222, -1.1222]]))"
     },
     "execution_count": 79,
     "metadata": {},
     "output_type": "execute_result"
    }
   ],
   "source": [
    "p = F.softmax(input, dim=1)\n",
    "log_p = torch.log(p)\n",
    "p, log_p"
   ],
   "metadata": {
    "collapsed": false,
    "ExecuteTime": {
     "end_time": "2023-06-25T08:24:30.993214Z",
     "start_time": "2023-06-25T08:24:30.981677Z"
    }
   }
  },
  {
   "cell_type": "code",
   "execution_count": 80,
   "outputs": [
    {
     "data": {
      "text/plain": "(tensor([[0.1375, 0.3060, 0.2505, 0.3060]]),\n tensor([[-1.9842, -1.1842, -1.3842, -1.1842]]))"
     },
     "execution_count": 80,
     "metadata": {},
     "output_type": "execute_result"
    }
   ],
   "source": [
    "q = F.softmax(target, dim=1)\n",
    "log_q = torch.log(q)\n",
    "q, log_q"
   ],
   "metadata": {
    "collapsed": false,
    "ExecuteTime": {
     "end_time": "2023-06-25T08:27:10.718923Z",
     "start_time": "2023-06-25T08:27:10.674677Z"
    }
   }
  },
  {
   "cell_type": "code",
   "execution_count": 83,
   "outputs": [
    {
     "data": {
      "text/plain": "tensor([[-0.0635,  0.0116,  0.1097, -0.0190]])"
     },
     "execution_count": 83,
     "metadata": {},
     "output_type": "execute_result"
    }
   ],
   "source": [
    "q * (log_q - log_p)"
   ],
   "metadata": {
    "collapsed": false,
    "ExecuteTime": {
     "end_time": "2023-06-25T08:37:48.262533Z",
     "start_time": "2023-06-25T08:37:48.227242Z"
    }
   }
  },
  {
   "cell_type": "markdown",
   "source": [],
   "metadata": {
    "collapsed": false
   }
  }
 ],
 "metadata": {
  "kernelspec": {
   "display_name": "Python 3",
   "language": "python",
   "name": "python3"
  },
  "language_info": {
   "codemirror_mode": {
    "name": "ipython",
    "version": 2
   },
   "file_extension": ".py",
   "mimetype": "text/x-python",
   "name": "python",
   "nbconvert_exporter": "python",
   "pygments_lexer": "ipython2",
   "version": "2.7.6"
  }
 },
 "nbformat": 4,
 "nbformat_minor": 0
}
